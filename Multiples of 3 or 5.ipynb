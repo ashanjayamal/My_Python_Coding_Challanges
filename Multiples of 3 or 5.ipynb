{
 "cells": [
  {
   "cell_type": "markdown",
   "metadata": {},
   "source": [
    "# Multiples of 3 or 5\n",
    "## Problem 1\n",
    "If we list all the natural numbers below $10$ that are multiples of $3$ or $5$, we get $3, 5, 6$ and $9$. The sum of these multiples is $23$. Find the sum of all the multiples of $3$ or $5$ below $1000$."
   ]
  },
  {
   "cell_type": "code",
   "execution_count": 10,
   "metadata": {},
   "outputs": [],
   "source": [
    "def Multiple_of_3_or_5(n):\n",
    "    sum=0\n",
    "    for i in range(1,n):\n",
    "        if (i%3==0) | (i%5==0):\n",
    "            sum=sum+i\n",
    "        i=i+1\n",
    "    print('The sum of all the multiples of 3 or 5 below',n,sum)"
   ]
  },
  {
   "cell_type": "code",
   "execution_count": 11,
   "metadata": {},
   "outputs": [
    {
     "name": "stdout",
     "output_type": "stream",
     "text": [
      "The sum of all the multiples of 3 or 5 below 10 23\n",
      "The sum of all the multiples of 3 or 5 below 100 2318\n",
      "The sum of all the multiples of 3 or 5 below 1000 233168\n"
     ]
    }
   ],
   "source": [
    "Multiple_of_3_or_5(10)\n",
    "Multiple_of_3_or_5(100)\n",
    "Multiple_of_3_or_5(1000)\n"
   ]
  }
 ],
 "metadata": {
  "kernelspec": {
   "display_name": "Python 3",
   "language": "python",
   "name": "python3"
  },
  "language_info": {
   "codemirror_mode": {
    "name": "ipython",
    "version": 3
   },
   "file_extension": ".py",
   "mimetype": "text/x-python",
   "name": "python",
   "nbconvert_exporter": "python",
   "pygments_lexer": "ipython3",
   "version": "3.10.4"
  }
 },
 "nbformat": 4,
 "nbformat_minor": 2
}
