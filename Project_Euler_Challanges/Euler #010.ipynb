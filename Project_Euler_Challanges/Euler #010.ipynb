{
 "cells": [
  {
   "cell_type": "markdown",
   "metadata": {},
   "source": [
    "# Summation of Prime\n",
    "### Problem 10\n",
    "The sum of the primes below $10$ is $2 +3 + 5 + 7=17.$\n",
    "Find the sum of all the primes below two million.\n"
   ]
  },
  {
   "cell_type": "code",
   "execution_count": 2,
   "metadata": {},
   "outputs": [],
   "source": [
    "from cmath import sqrt\n",
    "\n",
    "\n",
    "def Isprime(n):\n",
    "    if n==2 or n==3 or n==5:\n",
    "        return True\n",
    "    elif n%2==0 or n%3==0 or n%5==0:\n",
    "        return False\n",
    "    maxfactor=abs(sqrt(n))\n",
    "    i=2\n",
    "    while i<=maxfactor:\n",
    "\n",
    "        if n%i==0:\n",
    "            return False\n",
    "            \n",
    "        \n",
    "        i+=1\n",
    "\n",
    "    return True\n",
    "\n",
    "def Summation_of_Primes(upperlimit):\n",
    "    i=2\n",
    "    sum=0\n",
    "    while i<upperlimit:\n",
    "        if Isprime(i):\n",
    "            sum+=i\n",
    "        i+=1  \n",
    "    print(sum)"
   ]
  },
  {
   "cell_type": "code",
   "execution_count": 3,
   "metadata": {},
   "outputs": [
    {
     "name": "stdout",
     "output_type": "stream",
     "text": [
      "17\n"
     ]
    }
   ],
   "source": [
    "Summation_of_Primes(10)"
   ]
  },
  {
   "cell_type": "code",
   "execution_count": 4,
   "metadata": {},
   "outputs": [
    {
     "name": "stdout",
     "output_type": "stream",
     "text": [
      "142913828922\n"
     ]
    }
   ],
   "source": [
    "Summation_of_Primes(2000000)"
   ]
  }
 ],
 "metadata": {
  "kernelspec": {
   "display_name": "Python 3",
   "language": "python",
   "name": "python3"
  },
  "language_info": {
   "codemirror_mode": {
    "name": "ipython",
    "version": 3
   },
   "file_extension": ".py",
   "mimetype": "text/x-python",
   "name": "python",
   "nbconvert_exporter": "python",
   "pygments_lexer": "ipython3",
   "version": "3.10.4"
  }
 },
 "nbformat": 4,
 "nbformat_minor": 2
}
