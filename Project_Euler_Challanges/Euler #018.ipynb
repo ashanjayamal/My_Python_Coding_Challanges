{
 "cells": [
  {
   "cell_type": "markdown",
   "metadata": {},
   "source": [
    "# Maximum Path Sum I\n",
    "### Problem 18\n",
    "By starting at the top of the triangle below and moving to adjacent numbers on the row below, the maximum total from top to bottom is 23.\n",
    "$$3$$\n",
    "$$246$$\n",
    "$$8593$$\n",
    "That is, $3+ 7+ 9= 23$\n",
    "Find the maximum total from top to bottom of the triangle below.\n",
    "$$75$$\n",
    "$$95 64$$\n",
    "$$17 47 82$$\n",
    "$$18 35 87 10$$\n",
    "$$20 04 82 47 65$$\n",
    "$$19 01 23 75 03 34$$\n",
    "$$88 02 77 73 07 63 67$$\n",
    "$$99 65 04 28 06 16 70 92$$\n",
    "$$41 41 26 56 83 40 80 70 33$$\n",
    "$$41 48 72 33 47 32 37 16 94 29$$\n",
    "$$53 71 44 65 25 43 91 52 97 51 14$$\n",
    "$$70 11 33 28 77 73 17 78 39 68 17 57$$\n",
    "$$91 71 52 38 17 14 91 43 58 50 27 29 48$$\n",
    "$$63 66 04 68 89 53 67 30 73 16 69 87 40 31$$\n",
    "$$04 62 98 27 23 09 70 98 73 93 38 53 60 04 23$$\n",
    "\n",
    "**NOTE**: As there are only $16384$ routes, it is possible to solve this problem by trying every route. However, Problem $67$, is the same challenge with a triangle containing one-hundred rows; it cannot be solved by brute force, and requires a clever method! "
   ]
  },
  {
   "cell_type": "markdown",
   "metadata": {},
   "source": [
    "**Later I will explain how does this codes works.**"
   ]
  },
  {
   "cell_type": "code",
   "execution_count": 2,
   "metadata": {},
   "outputs": [
    {
     "name": "stdout",
     "output_type": "stream",
     "text": [
      "The maximum total from top to bottom of the triangle is  1074\n"
     ]
    }
   ],
   "source": [
    "#numbers copied as string\n",
    "number = '''75\n",
    "95 64\n",
    "17 47 82\n",
    "18 35 87 10\n",
    "20 04 82 47 65\n",
    "19 01 23 75 03 34\n",
    "88 02 77 73 07 63 67\n",
    "99 65 04 28 06 16 70 92\n",
    "41 41 26 56 83 40 80 70 33\n",
    "41 48 72 33 47 32 37 16 94 29\n",
    "53 71 44 65 25 43 91 52 97 51 14\n",
    "70 11 33 28 77 73 17 78 39 68 17 57\n",
    "91 71 52 38 17 14 91 43 58 50 27 29 48\n",
    "63 66 04 68 89 53 67 30 73 16 69 87 40 31\n",
    "04 62 98 27 23 09 70 98 73 93 38 53 60 04 23'''\n",
    "\n",
    "#splitting the number into a list\n",
    "number = number.strip().split('\\n')\n",
    "\n",
    "#converting each and every list of strings to int\n",
    "for i in range(0,len(number)):\n",
    "    number[i]=number[i].strip().split(' ')\n",
    "    number[i]=[int(x) for x in number[i]]\n",
    "\n",
    "\n",
    "for j in range(len(number)-2,-1,-1):\n",
    "    for k in range(len(number[j])):\n",
    "        number[j][k]=max(number[j+1][k],number[j+1][k+1])+number[j][k]\n",
    "\n",
    "print(\"The maximum total from top to bottom of the triangle is \",number[0][0])"
   ]
  }
 ],
 "metadata": {
  "kernelspec": {
   "display_name": "Python 3",
   "language": "python",
   "name": "python3"
  },
  "language_info": {
   "codemirror_mode": {
    "name": "ipython",
    "version": 3
   },
   "file_extension": ".py",
   "mimetype": "text/x-python",
   "name": "python",
   "nbconvert_exporter": "python",
   "pygments_lexer": "ipython3",
   "version": "3.10.4"
  }
 },
 "nbformat": 4,
 "nbformat_minor": 2
}
