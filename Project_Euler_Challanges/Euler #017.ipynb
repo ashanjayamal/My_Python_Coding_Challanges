{
 "cells": [
  {
   "cell_type": "markdown",
   "metadata": {},
   "source": [
    "# Number Letter Counts\n",
    "### Problem 17\n",
    "If the numbers $1$ to $5$ are written out in words: one, two, three, four, five, then there are $3 + 3 + 5 + 4 + 4= 19$ letters used in total.\n",
    "If all the numbers from $1$ to $1000$ (one thousand) inclusive were written out in words, how many letters would be used?\n",
    "\n",
    "**NOTE: Do not count spaces or hyphens.** \\\n",
    "*For example*, 342 (three hundred and forty-two) contains 23 letters and 115 (one hundred and fifteen) contains 20 letters. \\\n",
    "The use of \"and\" when writing out numbers is in compliance with British usage."
   ]
  },
  {
   "cell_type": "markdown",
   "metadata": {},
   "source": [
    "### 1 to 9\n",
    "There is no pattern no of letters 1 to 9\n",
    "| Number | Word  | No of letters |\n",
    "|--------|-------|-------|\n",
    "| 1      | one   | 3     |\n",
    "| 2      | two   | 3     |\n",
    "| 3      | three | 5     |\n",
    "| 4      | four  | 4     |\n",
    "| 5      | five  | 4     |\n",
    "| 6      | six   | 3     |\n",
    "| 7      | seven | 5     |\n",
    "| 8      | eight | 5     |\n",
    "| 9      | nine  | 4     |\n"
   ]
  },
  {
   "cell_type": "code",
   "execution_count": 1,
   "metadata": {},
   "outputs": [],
   "source": [
    "sum_of_1_to_9=3+3+5+4+4+3+5+5+4"
   ]
  },
  {
   "cell_type": "markdown",
   "metadata": {},
   "source": [
    "###  10-19\n",
    "| Number | Word      | No of letters |\n",
    "|--------|-----------|-------|\n",
    "| 10     | ten       | 3     |\n",
    "| 11     | eleven    | 6     |\n",
    "| 12     | twelve    | 6     |\n",
    "| 13     | thirteen  | 8     |\n",
    "| 14     | fourteen  | 8     |\n",
    "| 15     | fifteen   | 7     |\n",
    "| 16     | sixteen   | 7     |\n",
    "| 17     | seventeen | 9     |\n",
    "| 18     | eighteen  | 8     |\n",
    "| 19     | nineteen  | 8     |\n",
    "\n"
   ]
  },
  {
   "cell_type": "code",
   "execution_count": 2,
   "metadata": {},
   "outputs": [],
   "source": [
    "sum_of_10_t0_19=3+6 + 6 + 8 + 8 + 7 + 7 + 9 + 8+8"
   ]
  },
  {
   "cell_type": "markdown",
   "metadata": {},
   "source": [
    "### 20-100\n",
    "| Number | Word        | No of Letters |\n",
    "|--------|-------------|-------|\n",
    "| 20     | twenty      | 6     |\n",
    "| 21     | twenty one  | 6+3   |\n",
    "| ...    | ...         | ...   |\n",
    "| 30     | thirty      | 6     |\n",
    "| 40     | forty       | 5     |\n",
    "| 50     | fifty       | 5     |\n",
    "| 60     | sixty       | 5     |\n",
    "| 70     | seventy     | 7     |\n",
    "| 80     | eighty      | 6     |\n",
    "| 90     | ninety      | 6     |\n",
    "| 99     | ninety nine | 6+4=10|\n"
   ]
  },
  {
   "cell_type": "code",
   "execution_count": 3,
   "metadata": {},
   "outputs": [],
   "source": [
    "sum_of_20_100=10*(6 + 6 + 5 + 5 + 5 + 7 + 6 + 6)+8*sum_of_1_to_9 # Beacuse twenty;thrity repeart 10 times and 1 to 9 repeat twenty --> ninty only"
   ]
  },
  {
   "cell_type": "markdown",
   "metadata": {},
   "source": [
    "### 100-999\n",
    "      _____ **hundered and** _____  ______\n",
    "*eg:122= one  **hundered and** twenty  two*\n",
    "one ;two;three repeats as one hurderd...;two hundred;..three hudred..\n",
    "Thus number 1 to 9 repeats 100 times.==> (sum_of_1_to_9)$\\times 100$ ------------------------------------(1)\\\n",
    "1-99 occurring 9 times => $9\\times$ sum_of_1_to_99---------------------------------------------------(2)\\\n",
    "We have “hundred” occurring 9 times with 7 letters. => $7\\times 9$ ----------------------------------(3)\\\n",
    "*eg: one hurderd;two hunded...eight hundred; nine hundred.*\\\n",
    "We have “hundred and” occurring 999 times with 10 letters => $891\\times10$ =8910---------------------(4)\\\n",
    "1000-->one thousand-->11----------------------------------------------------------------------(5)\\\n",
    "\n",
    "By equation 0;1;2;3;4 and 5\n",
    "\n"
   ]
  },
  {
   "cell_type": "code",
   "execution_count": 4,
   "metadata": {},
   "outputs": [
    {
     "name": "stdout",
     "output_type": "stream",
     "text": [
      "21124\n"
     ]
    }
   ],
   "source": [
    "sum_of_1_to_99=sum_of_1_to_9+sum_of_10_t0_19+sum_of_20_100\n",
    "Grand_Total=sum_of_1_to_99+(sum_of_1_to_9*100)+ (9*sum_of_1_to_99)+(7*9)+(891*10)+11\n",
    "print(Grand_Total)"
   ]
  }
 ],
 "metadata": {
  "kernelspec": {
   "display_name": "Python 3",
   "language": "python",
   "name": "python3"
  },
  "language_info": {
   "codemirror_mode": {
    "name": "ipython",
    "version": 3
   },
   "file_extension": ".py",
   "mimetype": "text/x-python",
   "name": "python",
   "nbconvert_exporter": "python",
   "pygments_lexer": "ipython3",
   "version": "3.10.4"
  }
 },
 "nbformat": 4,
 "nbformat_minor": 2
}
