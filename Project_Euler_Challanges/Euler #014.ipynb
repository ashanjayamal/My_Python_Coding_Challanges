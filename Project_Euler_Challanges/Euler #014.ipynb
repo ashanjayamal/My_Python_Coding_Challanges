{
 "cells": [
  {
   "cell_type": "markdown",
   "metadata": {},
   "source": [
    "# Longest Collatz sequence\n",
    "### Problem 14\n",
    "The following iterative sequence is defined for the set of positive integers:\n",
    "$$n → n/2 \\text{ (n is even) }$$\n",
    "$$n → 3n + 1 \\text{ (n is odd) }$$\n",
    "Using the rule above and starting with 13, we generate the following sequence:\n",
    "$$13 → 40 → 20 → 10 → 5 → 16 → 8 → 4 → 2 → 1$$\n",
    "It can be seen that this sequence (starting at 13 and finishing at 1) contains 10 terms. Although it has not been proved yet (Collatz Problem), it is thought that all starting numbers finish at 1.\n",
    "Which starting number, under one million, produces the longest chain?\n",
    "note: Once the chain starts the terms are allowed to go above one million.\n"
   ]
  },
  {
   "cell_type": "code",
   "execution_count": 17,
   "metadata": {},
   "outputs": [],
   "source": [
    "\n",
    "def collatz_Sequence(n):\n",
    "    l=1\n",
    "    while True:\n",
    "        if n%2==0:\n",
    "            l+=1\n",
    "            n=n/2\n",
    "        else:\n",
    "            l+=1\n",
    "            n=3*n+1\n",
    "        if n<=1:\n",
    "            return l\n",
    "            \n",
    "   \n",
    "\n",
    "\n",
    "def Longest_Collatz_Sequence(upper_limit):  \n",
    "    largest=0\n",
    "    n=0\n",
    "    while n<=upper_limit:\n",
    "        num=collatz_Sequence(n)\n",
    "        if largest<=num:\n",
    "            largest=num\n",
    "            number=n\n",
    "        n+=1 \n",
    "    print(\"The starting number\",number,\"produces a sequence of length\",largest)\n",
    "    return largest"
   ]
  },
  {
   "cell_type": "code",
   "execution_count": 19,
   "metadata": {},
   "outputs": [
    {
     "name": "stdout",
     "output_type": "stream",
     "text": [
      "The starting number 19 produces a sequence of length 21\n"
     ]
    },
    {
     "data": {
      "text/plain": [
       "21"
      ]
     },
     "execution_count": 19,
     "metadata": {},
     "output_type": "execute_result"
    }
   ],
   "source": [
    "Longest_Collatz_Sequence(20)"
   ]
  },
  {
   "cell_type": "code",
   "execution_count": 21,
   "metadata": {},
   "outputs": [
    {
     "name": "stdout",
     "output_type": "stream",
     "text": [
      "The starting number 77031 produces a sequence of length 351\n"
     ]
    },
    {
     "data": {
      "text/plain": [
       "351"
      ]
     },
     "execution_count": 21,
     "metadata": {},
     "output_type": "execute_result"
    }
   ],
   "source": [
    "Longest_Collatz_Sequence(100000)"
   ]
  },
  {
   "cell_type": "code",
   "execution_count": 22,
   "metadata": {},
   "outputs": [
    {
     "name": "stdout",
     "output_type": "stream",
     "text": [
      "The starting number 837799 produces a sequence of length 525\n"
     ]
    },
    {
     "data": {
      "text/plain": [
       "525"
      ]
     },
     "execution_count": 22,
     "metadata": {},
     "output_type": "execute_result"
    }
   ],
   "source": [
    "Longest_Collatz_Sequence(1000000)"
   ]
  }
 ],
 "metadata": {
  "kernelspec": {
   "display_name": "Python 3",
   "language": "python",
   "name": "python3"
  },
  "language_info": {
   "codemirror_mode": {
    "name": "ipython",
    "version": 3
   },
   "file_extension": ".py",
   "mimetype": "text/x-python",
   "name": "python",
   "nbconvert_exporter": "python",
   "pygments_lexer": "ipython3",
   "version": "3.10.4"
  }
 },
 "nbformat": 4,
 "nbformat_minor": 2
}
