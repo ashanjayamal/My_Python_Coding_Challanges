{
 "cells": [
  {
   "cell_type": "markdown",
   "metadata": {},
   "source": [
    "# Sum Square Difference\n",
    "### Problem 6\n",
    "The sum of the squares of the first ten natural numbers is,\n",
    "$$1^2 + 2^2+\\cdots +10^2=385$$\n",
    "The square of the sum of the first ten natural numbers is,\n",
    "\n",
    "$$(1 + 2+...+10)^2=3025.$$\n",
    "Hence the difference between the sum of the squares of the first ten natural numbers and the square of the sum is\n",
    "$3025 — 385= 2640.$\n",
    "Find the difference between the sum of the squares of the first one hundred natural numbers and the square of the sum."
   ]
  },
  {
   "cell_type": "code",
   "execution_count": 3,
   "metadata": {},
   "outputs": [],
   "source": [
    "def Sum_Square_Difference(upperlimit):\n",
    "    sum1=0\n",
    "    sum2=0\n",
    "    for i in range(1,upperlimit+1):\n",
    "        sum1+=i**2\n",
    "        sum2+=i\n",
    "    diff=sum2**2-sum1   \n",
    "    return(diff)  "
   ]
  },
  {
   "cell_type": "code",
   "execution_count": 4,
   "metadata": {},
   "outputs": [
    {
     "data": {
      "text/plain": [
       "2640"
      ]
     },
     "execution_count": 4,
     "metadata": {},
     "output_type": "execute_result"
    }
   ],
   "source": [
    "Sum_Square_Difference(10)"
   ]
  },
  {
   "cell_type": "code",
   "execution_count": 5,
   "metadata": {},
   "outputs": [
    {
     "data": {
      "text/plain": [
       "25164150"
      ]
     },
     "execution_count": 5,
     "metadata": {},
     "output_type": "execute_result"
    }
   ],
   "source": [
    "Sum_Square_Difference(100)"
   ]
  }
 ],
 "metadata": {
  "kernelspec": {
   "display_name": "Python 3",
   "language": "python",
   "name": "python3"
  },
  "language_info": {
   "codemirror_mode": {
    "name": "ipython",
    "version": 3
   },
   "file_extension": ".py",
   "mimetype": "text/x-python",
   "name": "python",
   "nbconvert_exporter": "python",
   "pygments_lexer": "ipython3",
   "version": "3.10.4"
  }
 },
 "nbformat": 4,
 "nbformat_minor": 2
}
