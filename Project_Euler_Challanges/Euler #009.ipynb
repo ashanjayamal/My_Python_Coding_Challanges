{
 "cells": [
  {
   "cell_type": "markdown",
   "metadata": {},
   "source": [
    "# Special Pythagorean Triplet\n",
    "### Problem 9\n",
    "\n",
    "A Pythagorean triplet is a set of three natural numbers, $a < b < c$, for which,\n",
    "$$a^2+b^2=c^2$$\n",
    "\n",
    "For example, \n",
    "$$3^2+4^2=9+16=25=5^2.$$\n",
    "\n",
    "There exists exactly one Pythagorean triplet for which $a + b + c =1000$\n",
    "Find the product $abc$.\n"
   ]
  },
  {
   "cell_type": "code",
   "execution_count": 7,
   "metadata": {},
   "outputs": [],
   "source": [
    "from cmath import sqrt\n",
    "\n",
    "def Special_Pythagorean_Triplet(limit): \n",
    "    check=limit\n",
    "    for a in range(1,limit):\n",
    "        for b in range(a,limit):\n",
    "            c= abs(sqrt((a**2+b**2))) # abs convert in to real number\n",
    "            if c.is_integer(): #check c=sqrt(a^2-b^2) is integer\n",
    "                c=int(c)\n",
    "                sum=a+b+c\n",
    "                if sum==check:\n",
    "                    print(\"The Pythagorean triplet for which a + b + c =\", limit ,\"is as follwing \\n  a =\",a,\"b =\",b,\"c =\",c,\"and the product abc s \",a*b*c,\".\")\n",
    "                    return a*b*c\n"
   ]
  },
  {
   "cell_type": "code",
   "execution_count": 9,
   "metadata": {},
   "outputs": [
    {
     "name": "stdout",
     "output_type": "stream",
     "text": [
      "The Pythagorean triplet for which a + b + c = 12 is as follwing \n",
      "  a = 3 b = 4 c = 5 and the product abc s  60 .\n"
     ]
    },
    {
     "data": {
      "text/plain": [
       "60"
      ]
     },
     "execution_count": 9,
     "metadata": {},
     "output_type": "execute_result"
    }
   ],
   "source": [
    "Special_Pythagorean_Triplet(12)"
   ]
  },
  {
   "cell_type": "code",
   "execution_count": 8,
   "metadata": {},
   "outputs": [
    {
     "name": "stdout",
     "output_type": "stream",
     "text": [
      "The Pythagorean triplet for which a + b + c = 1000 is as follwing \n",
      "  a = 200 b = 375 c = 425 and the product abc s  31875000 .\n"
     ]
    },
    {
     "data": {
      "text/plain": [
       "31875000"
      ]
     },
     "execution_count": 8,
     "metadata": {},
     "output_type": "execute_result"
    }
   ],
   "source": [
    "Special_Pythagorean_Triplet(1000)"
   ]
  }
 ],
 "metadata": {
  "kernelspec": {
   "display_name": "Python 3",
   "language": "python",
   "name": "python3"
  },
  "language_info": {
   "codemirror_mode": {
    "name": "ipython",
    "version": 3
   },
   "file_extension": ".py",
   "mimetype": "text/x-python",
   "name": "python",
   "nbconvert_exporter": "python",
   "pygments_lexer": "ipython3",
   "version": "3.10.4"
  }
 },
 "nbformat": 4,
 "nbformat_minor": 2
}
