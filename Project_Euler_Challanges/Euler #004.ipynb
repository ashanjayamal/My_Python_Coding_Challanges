{
 "cells": [
  {
   "cell_type": "markdown",
   "metadata": {},
   "source": [
    "# Largest Palindrome Product\n",
    "### Problem 4\n",
    "A palindromic number reads the same both ways. The largest palindrome made from the product of two $2$-digit numbers is $$9009 = 91 \\times 99.$$\n",
    "Find the largest palindrome made from the product of two $3$-digit numbers."
   ]
  },
  {
   "cell_type": "code",
   "execution_count": 8,
   "metadata": {},
   "outputs": [],
   "source": [
    "def Largest_Palindrome_Product(n):\n",
    "    maxlimit=10**n\n",
    "    largest=1\n",
    "    for i in range(1,maxlimit+1):\n",
    "        for j in range(1,maxlimit+1):\n",
    "            str1=str(i*j)\n",
    "            flipstr=str1[::-1]\n",
    "            if str1==flipstr and largest<i*j:\n",
    "                largest=i*j\n",
    "    print(\"The largest palindrome made from the product of two\",n,\"- digit numbers is\",largest)\n",
    "    return(largest)\n"
   ]
  },
  {
   "cell_type": "code",
   "execution_count": 11,
   "metadata": {},
   "outputs": [
    {
     "name": "stdout",
     "output_type": "stream",
     "text": [
      "The largest palindrome made from the product of two 2 - digit numbers is 9009\n"
     ]
    },
    {
     "data": {
      "text/plain": [
       "9009"
      ]
     },
     "execution_count": 11,
     "metadata": {},
     "output_type": "execute_result"
    }
   ],
   "source": [
    "Largest_Palindrome_Product(2)"
   ]
  },
  {
   "cell_type": "code",
   "execution_count": 10,
   "metadata": {},
   "outputs": [
    {
     "name": "stdout",
     "output_type": "stream",
     "text": [
      "The largest palindrome made from the product of two 3 - digit numbers is 906609\n"
     ]
    },
    {
     "data": {
      "text/plain": [
       "906609"
      ]
     },
     "execution_count": 10,
     "metadata": {},
     "output_type": "execute_result"
    }
   ],
   "source": [
    "Largest_Palindrome_Product(3)"
   ]
  }
 ],
 "metadata": {
  "kernelspec": {
   "display_name": "Python 3",
   "language": "python",
   "name": "python3"
  },
  "language_info": {
   "codemirror_mode": {
    "name": "ipython",
    "version": 3
   },
   "file_extension": ".py",
   "mimetype": "text/x-python",
   "name": "python",
   "nbconvert_exporter": "python",
   "pygments_lexer": "ipython3",
   "version": "3.10.4"
  }
 },
 "nbformat": 4,
 "nbformat_minor": 2
}
