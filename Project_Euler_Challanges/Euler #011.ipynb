{
 "cells": [
  {
   "cell_type": "markdown",
   "metadata": {},
   "source": [
    "# Largest Product in a Grid\n",
    "### Problem 11\n",
    "In the $20 \\times 20$ grid below, four numbers along a diagonal line have been marked in red.\n",
    "\n",
    "08 02 22 97 38 15 00 40 00 75 04 05 07 78 52 12 50 77 91 08\\\n",
    "49 49 99 40 17 81 18 57 60 87 17 40 98 43 69 48 04 56 62 00\\\n",
    "81 49 31 73 55 79 14 29 93 71 40 67 53 88 30 03 49 13 36 65\\\n",
    "52 70 95 23 04 60 11 42 69 24 68 56 01 32 56 71 37 02 36 91\\\n",
    "22 31 16 71 51 67 63 89 41 92 36 54 22 40 40 28 66 33 13 80\\\n",
    "24 47 32 60 99 03 45 02 44 75 33 53 78 36 84 20 35 17 12 50\\\n",
    "32 98 81 28 64 23 67 10 <span style=\"color:red\">26</span> 38 40 67 59 54 70 66 18 38 64 70\\\n",
    "67 26 20 68 02 62 12 20 95 <span style=\"color:red\">63</span> 94 39 63 08 40 91 66 49 94 21\\\n",
    "24 55 58 05 66 73 99 26 97 17 <span style=\"color:red\">78</span> 78 96 83 14 88 34 89 63 72\\\n",
    "21 36 23 09 75 00 76 44 20 45 35 <span style=\"color:red\">14</span> 00 61 33 97 34 31 33 95\\\n",
    "78 17 53 28 22 75 31 67 15 94 03 80 04 62 16 14 09 53 56 92\\\n",
    "16 39 05 42 96 35 31 47 55 58 88 24 00 17 54 24 36 29 85 57\\\n",
    "86 56 00 48 35 71 89 07 05 44 44 37 44 60 21 58 51 54 17 58\\\n",
    "19 80 81 68 05 94 47 69 28 73 92 13 86 52 17 77 04 89 55 40\\\n",
    "04 52 08 83 97 35 99 16 07 97 57 32 16 26 26 79 33 27 98 66\\\n",
    "88 36 68 87 57 62 20 72 03 46 33 67 46 55 12 32 63 93 53 69\\\n",
    "04 42 16 73 38 25 39 11 24 94 72 18 08 46 29 32 40 62 76 36\\\n",
    "20 69 36 41 72 30 23 88 34 62 99 69 82 67 59 85 74 04 36 16\\\n",
    "20 73 35 29 78 31 90 01 74 31 49 71 48 86 81 16 23 57 05 54\\\n",
    "01 70 54 71 83 51 54 69 16 92 33 48 61 43 52 01 89 19 67 48\\\n",
    "\n",
    "The product of these numbers is $26 \\times 63 \\times 78 \\times 14 =1788696.$\n",
    "What is the greatest product of four adjacent numbers in the same direction (up, down, left, right, or\n",
    "diagonally) in the  $20 \\times 20$ grid?"
   ]
  },
  {
   "cell_type": "code",
   "execution_count": 3,
   "metadata": {},
   "outputs": [
    {
     "name": "stdout",
     "output_type": "stream",
     "text": [
      "The greatest product of four adjacent numbers in the same direction (up, down, left, right, or diagonally) in the 20×20 grid = 70600674\n"
     ]
    }
   ],
   "source": [
    "BIG_MAT=[[\t8\t,\t2\t,\t22\t,\t97\t,\t38\t,\t15\t,\t0\t,\t40\t,\t0\t,\t75\t,\t4\t,\t5\t,\t7\t,\t78\t,\t52\t,\t12\t,\t50\t,\t77\t,\t91\t,\t8\t]\t,\n",
    "[\t49\t,\t49\t,\t99\t,\t40\t,\t17\t,\t81\t,\t18\t,\t57\t,\t60\t,\t87\t,\t17\t,\t40\t,\t98\t,\t43\t,\t69\t,\t48\t,\t4\t,\t56\t,\t62\t,\t0\t]\t,\n",
    "[\t81\t,\t49\t,\t31\t,\t73\t,\t55\t,\t79\t,\t14\t,\t29\t,\t93\t,\t71\t,\t40\t,\t67\t,\t53\t,\t88\t,\t30\t,\t3\t,\t49\t,\t13\t,\t36\t,\t65\t]\t,\n",
    "[\t52\t,\t70\t,\t95\t,\t23\t,\t4\t,\t60\t,\t11\t,\t42\t,\t69\t,\t24\t,\t68\t,\t56\t,\t1\t,\t32\t,\t56\t,\t71\t,\t37\t,\t2\t,\t36\t,\t91\t]\t,\n",
    "[\t22\t,\t31\t,\t16\t,\t71\t,\t51\t,\t67\t,\t63\t,\t89\t,\t41\t,\t92\t,\t36\t,\t54\t,\t22\t,\t40\t,\t40\t,\t28\t,\t66\t,\t33\t,\t13\t,\t80\t]\t,\n",
    "[\t24\t,\t47\t,\t32\t,\t60\t,\t99\t,\t3\t,\t45\t,\t2\t,\t44\t,\t75\t,\t33\t,\t53\t,\t78\t,\t36\t,\t84\t,\t20\t,\t35\t,\t17\t,\t12\t,\t50\t]\t,\n",
    "[\t32\t,\t98\t,\t81\t,\t28\t,\t64\t,\t23\t,\t67\t,\t10\t,\t26\t,\t38\t,\t40\t,\t67\t,\t59\t,\t54\t,\t70\t,\t66\t,\t18\t,\t38\t,\t64\t,\t70\t]\t,\n",
    "[\t67\t,\t26\t,\t20\t,\t68\t,\t2\t,\t62\t,\t12\t,\t20\t,\t95\t,\t63\t,\t94\t,\t39\t,\t63\t,\t8\t,\t40\t,\t91\t,\t66\t,\t49\t,\t94\t,\t21\t]\t,\n",
    "[\t24\t,\t55\t,\t58\t,\t5\t,\t66\t,\t73\t,\t99\t,\t26\t,\t97\t,\t17\t,\t78\t,\t78\t,\t96\t,\t83\t,\t14\t,\t88\t,\t34\t,\t89\t,\t63\t,\t72\t]\t,\n",
    "[\t21\t,\t36\t,\t23\t,\t9\t,\t75\t,\t0\t,\t76\t,\t44\t,\t20\t,\t45\t,\t35\t,\t14\t,\t0\t,\t61\t,\t33\t,\t97\t,\t34\t,\t31\t,\t33\t,\t95\t]\t,\n",
    "[\t78\t,\t17\t,\t53\t,\t28\t,\t22\t,\t75\t,\t31\t,\t67\t,\t15\t,\t94\t,\t3\t,\t80\t,\t4\t,\t62\t,\t16\t,\t14\t,\t9\t,\t53\t,\t56\t,\t92\t]\t,\n",
    "[\t16\t,\t39\t,\t5\t,\t42\t,\t96\t,\t35\t,\t31\t,\t47\t,\t55\t,\t58\t,\t88\t,\t24\t,\t0\t,\t17\t,\t54\t,\t24\t,\t36\t,\t29\t,\t85\t,\t57\t]\t,\n",
    "[\t86\t,\t56\t,\t0\t,\t48\t,\t35\t,\t71\t,\t89\t,\t7\t,\t5\t,\t44\t,\t44\t,\t37\t,\t44\t,\t60\t,\t21\t,\t58\t,\t51\t,\t54\t,\t17\t,\t58\t]\t,\n",
    "[\t19\t,\t80\t,\t81\t,\t68\t,\t5\t,\t94\t,\t47\t,\t69\t,\t28\t,\t73\t,\t92\t,\t13\t,\t86\t,\t52\t,\t17\t,\t77\t,\t4\t,\t89\t,\t55\t,\t40\t]\t,\n",
    "[\t4\t,\t52\t,\t8\t,\t83\t,\t97\t,\t35\t,\t99\t,\t16\t,\t7\t,\t97\t,\t57\t,\t32\t,\t16\t,\t26\t,\t26\t,\t79\t,\t33\t,\t27\t,\t98\t,\t66\t]\t,\n",
    "[\t88\t,\t36\t,\t68\t,\t87\t,\t57\t,\t62\t,\t20\t,\t72\t,\t3\t,\t46\t,\t33\t,\t67\t,\t46\t,\t55\t,\t12\t,\t32\t,\t63\t,\t93\t,\t53\t,\t69\t]\t,\n",
    "[\t4\t,\t42\t,\t16\t,\t73\t,\t38\t,\t25\t,\t39\t,\t11\t,\t24\t,\t94\t,\t72\t,\t18\t,\t8\t,\t46\t,\t29\t,\t32\t,\t40\t,\t62\t,\t76\t,\t36\t]\t,\n",
    "[\t20\t,\t69\t,\t36\t,\t41\t,\t72\t,\t30\t,\t23\t,\t88\t,\t34\t,\t62\t,\t99\t,\t69\t,\t82\t,\t67\t,\t59\t,\t85\t,\t74\t,\t4\t,\t36\t,\t16\t]\t,\n",
    "[\t20\t,\t73\t,\t35\t,\t29\t,\t78\t,\t31\t,\t90\t,\t1\t,\t74\t,\t31\t,\t49\t,\t71\t,\t48\t,\t86\t,\t81\t,\t16\t,\t23\t,\t57\t,\t5\t,\t54\t]\t,\n",
    "[\t1\t,\t70\t,\t54\t,\t71\t,\t83\t,\t51\t,\t54\t,\t69\t,\t16\t,\t92\t,\t33\t,\t48\t,\t61\t,\t43\t,\t52\t,\t1\t,\t89\t,\t19\t,\t67\t,\t48\t]]\n",
    "\n",
    "l=len(BIG_MAT)\n",
    "largest=0\n",
    "# down digonl right \\>\n",
    "for row in range(l-3):\n",
    "    for col in range(l-3):\n",
    "        prod=BIG_MAT[col][row]*BIG_MAT[col+1][row+1]*BIG_MAT[col+2][row+2]*BIG_MAT[col+3][row+3]\n",
    "        if largest<prod:\n",
    "            largest=prod\n",
    "\n",
    "            \n",
    "\n",
    "# right->\n",
    "for row in range(l-3):\n",
    "    for col in range(l):\n",
    "        prod=BIG_MAT[col][row]*BIG_MAT[col][row+1]*BIG_MAT[col][row+2]*BIG_MAT[col][row+3]\n",
    "        if largest<prod:\n",
    "            largest=prod\n",
    "\n",
    "\n",
    "#down |V\n",
    "for row in range(l):\n",
    "    for col in range(l-3):\n",
    "        prod=BIG_MAT[col][row]*BIG_MAT[col+1][row]*BIG_MAT[col+2][row]*BIG_MAT[col+3][row]\n",
    "        if largest<prod:\n",
    "            largest=prod\n",
    "\n",
    "\n",
    "\n",
    "# down digonl left </\n",
    "for row in range(3,l):\n",
    "    for col in range(l-3):\n",
    "        prod=BIG_MAT[col][row]*BIG_MAT[col+1][row-1]*BIG_MAT[col+2][row-2]*BIG_MAT[col+3][row-3]\n",
    "        if largest<prod:\n",
    "            largest=prod\n",
    "\n",
    "            \n",
    "print(\"The greatest product of four adjacent numbers in the same direction (up, down, left, right, or diagonally) in the 20×20 grid =\",largest)\n"
   ]
  }
 ],
 "metadata": {
  "kernelspec": {
   "display_name": "Python 3",
   "language": "python",
   "name": "python3"
  },
  "language_info": {
   "codemirror_mode": {
    "name": "ipython",
    "version": 3
   },
   "file_extension": ".py",
   "mimetype": "text/x-python",
   "name": "python",
   "nbconvert_exporter": "python",
   "pygments_lexer": "ipython3",
   "version": "3.10.4"
  }
 },
 "nbformat": 4,
 "nbformat_minor": 2
}
