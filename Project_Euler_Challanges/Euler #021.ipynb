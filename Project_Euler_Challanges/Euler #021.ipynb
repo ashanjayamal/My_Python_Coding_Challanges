{
 "cells": [
  {
   "cell_type": "markdown",
   "metadata": {},
   "source": [
    "# Amicable Numbers\n",
    "### Problem 21\n",
    "Let $d(n)$ be defined as the sum of proper divisors of $n$ (numbers less than n which divide evenly into $n$).\n",
    "If $d(a) = b$ and $d(b) =a$, where $a \\neq b$, then $a$ and $b$ are an amicable pair and each of $a$ and $b$ are called amicable numbers.\n",
    "For example, the proper divisors of $220$ are $1, 2, 4, 5, 10, 11, 20, 22, 44, 55$ and $110$; \n",
    "therefore $d(220)= 284$. \n",
    "\n",
    "The proper divisors of $284$ are $1, 2, 4, 71$ and $142$;\n",
    "so $d(284)=220$.\n",
    "Evaluate the sum of all the amicable numbers under $10000$."
   ]
  },
  {
   "cell_type": "code",
   "execution_count": 6,
   "metadata": {},
   "outputs": [],
   "source": [
    "def sum_of_proper_dividors(input):\n",
    "    sum=0\n",
    "    for i in range (1,int(input/2)+1):\n",
    "        if input%i==0:\n",
    "            sum+=i\n",
    "\n",
    "    return sum\n",
    "\n",
    "def Amicable_Numbers(n):\n",
    "    sum_am=0\n",
    "    \n",
    "    for a in range(1,n+1):\n",
    "        da =sum_of_proper_dividors(a)\n",
    "        b=da\n",
    "        db= sum_of_proper_dividors(b)\n",
    "        if da==b and db==a and a!=b:\n",
    "            sum_am+=a\n",
    "            print(a,b)\n",
    "    print(\"the sum of all the amicable numbers under \",n,\" is \",sum_am)\n",
    "    return sum_am"
   ]
  },
  {
   "cell_type": "code",
   "execution_count": 4,
   "metadata": {},
   "outputs": [
    {
     "name": "stdout",
     "output_type": "stream",
     "text": [
      "220 284\n",
      "284 220\n",
      "the sum of all the amicable numbers under  1000  is  504\n"
     ]
    },
    {
     "data": {
      "text/plain": [
       "504"
      ]
     },
     "execution_count": 4,
     "metadata": {},
     "output_type": "execute_result"
    }
   ],
   "source": [
    "Amicable_Numbers(1000)"
   ]
  },
  {
   "cell_type": "code",
   "execution_count": 5,
   "metadata": {},
   "outputs": [
    {
     "name": "stdout",
     "output_type": "stream",
     "text": [
      "220 284\n",
      "284 220\n",
      "1184 1210\n",
      "1210 1184\n",
      "2620 2924\n",
      "2924 2620\n",
      "5020 5564\n",
      "5564 5020\n",
      "6232 6368\n",
      "6368 6232\n",
      "the sum of all the amicable numbers under  10000  is  31626\n"
     ]
    },
    {
     "data": {
      "text/plain": [
       "31626"
      ]
     },
     "execution_count": 5,
     "metadata": {},
     "output_type": "execute_result"
    }
   ],
   "source": [
    "Amicable_Numbers(10000)"
   ]
  }
 ],
 "metadata": {
  "kernelspec": {
   "display_name": "Python 3",
   "language": "python",
   "name": "python3"
  },
  "language_info": {
   "codemirror_mode": {
    "name": "ipython",
    "version": 3
   },
   "file_extension": ".py",
   "mimetype": "text/x-python",
   "name": "python",
   "nbconvert_exporter": "python",
   "pygments_lexer": "ipython3",
   "version": "3.10.4"
  }
 },
 "nbformat": 4,
 "nbformat_minor": 2
}
