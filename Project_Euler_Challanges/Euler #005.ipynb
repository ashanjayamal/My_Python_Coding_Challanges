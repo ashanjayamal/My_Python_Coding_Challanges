{
 "cells": [
  {
   "cell_type": "code",
   "execution_count": null,
   "metadata": {},
   "outputs": [],
   "source": []
  },
  {
   "cell_type": "markdown",
   "metadata": {},
   "source": [
    "# Smallest Multiple\n",
    "## Problem 5\n",
    "$2520$ is the smallest number that can be divided by each of the numbers from $1$ to $10$ without any remainder.\n",
    "\n",
    "What is the smallest positive number that is evenly divisible by all of the numbers from $1$ to $20$?"
   ]
  },
  {
   "cell_type": "code",
   "execution_count": 3,
   "metadata": {},
   "outputs": [],
   "source": [
    "#from operator import truediv\n",
    "from pickle import FALSE, TRUE\n",
    "\n",
    "def Smallest_Multiple(n):\n",
    "\n",
    "    check1=1\n",
    "    i=1\n",
    "    while TRUE: #later we brak the loop not here\n",
    "        check1=1\n",
    "        for j in range(1,n+1):\n",
    "            \n",
    "            if i%j==0 and check1==1:\n",
    "                check=1 \n",
    "            else:\n",
    "                check=0\n",
    "            check1=check*check1 # check wethter i divides all the number between 1 to n\n",
    "\n",
    "        if check1==1: \n",
    "            print(\"The smallest positive number that is evenly divisible by all of the numbers from 1 ,\",n,\"is\",i)\n",
    "            return i\n",
    "        i+=1"
   ]
  },
  {
   "cell_type": "code",
   "execution_count": 4,
   "metadata": {},
   "outputs": [
    {
     "name": "stdout",
     "output_type": "stream",
     "text": [
      "The smallest positive number that is evenly divisible by all of the numbers from 1 , 10 is 2520\n"
     ]
    },
    {
     "data": {
      "text/plain": [
       "2520"
      ]
     },
     "execution_count": 4,
     "metadata": {},
     "output_type": "execute_result"
    }
   ],
   "source": [
    "Smallest_Multiple(10)"
   ]
  },
  {
   "cell_type": "code",
   "execution_count": 5,
   "metadata": {},
   "outputs": [],
   "source": [
    "Smallest_Multiple(20)"
   ]
  }
 ],
 "metadata": {
  "kernelspec": {
   "display_name": "Python 3",
   "language": "python",
   "name": "python3"
  },
  "language_info": {
   "codemirror_mode": {
    "name": "ipython",
    "version": 3
   },
   "file_extension": ".py",
   "mimetype": "text/x-python",
   "name": "python",
   "nbconvert_exporter": "python",
   "pygments_lexer": "ipython3",
   "version": "3.10.4"
  }
 },
 "nbformat": 4,
 "nbformat_minor": 2
}
