{
 "cells": [
  {
   "cell_type": "markdown",
   "metadata": {},
   "source": [
    "# Largest Prime Factor\n",
    "#### Euler Challange 3\n",
    "The prime factors of $13195$ are $5, 7, 13$ and $29$.\n",
    "What is the largest prime factor of the number $600851475143$?"
   ]
  },
  {
   "cell_type": "code",
   "execution_count": 1,
   "metadata": {},
   "outputs": [],
   "source": [
    "from math import sqrt\n",
    "\n",
    "\n",
    "def Largest_Prime_Factor(n):\n",
    "    input=n\n",
    "    max_factor=int(sqrt(n)) # all the prime factors are less than sqrt(num)\n",
    "    lastfator=1\n",
    "    c=2\n",
    "    while lastfator<max_factor and  n>1:\n",
    "        if n%c==0:\n",
    "            #print(c)\n",
    "            lastfator=c\n",
    "            n=n/c\n",
    "        else:\n",
    "            c+=1\n",
    "    print(\"The prime factor of the number\",input,\"is\",lastfator)\n",
    "    return(lastfator)"
   ]
  },
  {
   "cell_type": "code",
   "execution_count": 5,
   "metadata": {},
   "outputs": [
    {
     "name": "stdout",
     "output_type": "stream",
     "text": [
      "The prime factor of the number 10 is 5\n",
      "The prime factor of the number 13195 is 29\n",
      "The prime factor of the number 600851475143 is 6857\n"
     ]
    },
    {
     "data": {
      "text/plain": [
       "6857"
      ]
     },
     "execution_count": 5,
     "metadata": {},
     "output_type": "execute_result"
    }
   ],
   "source": [
    "\n",
    "Largest_Prime_Factor(10)\n",
    "Largest_Prime_Factor(13195)\n",
    "Largest_Prime_Factor(600851475143)"
   ]
  }
 ],
 "metadata": {
  "kernelspec": {
   "display_name": "Python 3",
   "language": "python",
   "name": "python3"
  },
  "language_info": {
   "codemirror_mode": {
    "name": "ipython",
    "version": 3
   },
   "file_extension": ".py",
   "mimetype": "text/x-python",
   "name": "python",
   "nbconvert_exporter": "python",
   "pygments_lexer": "ipython3",
   "version": "3.10.4"
  }
 },
 "nbformat": 4,
 "nbformat_minor": 2
}
