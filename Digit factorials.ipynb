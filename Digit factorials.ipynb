{
 "cells": [
  {
   "cell_type": "markdown",
   "metadata": {},
   "source": [
    "Digit factorials\n",
    "\n",
    "Problem 34\n",
    "\n",
    "145 is a curious number, as 1! + 4! + 5! = 1 + 24 + 120 = 145.\n",
    "\n",
    "Find the sum of all numbers which are equal to the sum of the factorial of their digits.\n",
    "\n",
    "Note: As 1! = 1 and 2! = 2 are not sums they are not included."
   ]
  },
  {
   "cell_type": "markdown",
   "metadata": {},
   "source": [
    "Solution:\n",
    "first we make a list of factrilas of number 0-9.\n",
    "Unless we have to calculate each every time that. Now we can use following \"fact\" array.\n"
   ]
  },
  {
   "cell_type": "code",
   "execution_count": 15,
   "metadata": {},
   "outputs": [
    {
     "name": "stdout",
     "output_type": "stream",
     "text": [
      "[1, 1, 2, 6, 24, 120, 720, 5040, 40320, 362880]\n",
      "409114\n"
     ]
    }
   ],
   "source": [
    "from math import factorial\n",
    "# Make Factoril of numbers 0-9\n",
    "fact=[]\n",
    "for i in range(10):\n",
    "    fact.append(factorial(i))\n",
    "print(fact)"
   ]
  },
  {
   "cell_type": "markdown",
   "metadata": {},
   "source": [
    "Define a function to caculate factrial sum of digits"
   ]
  },
  {
   "cell_type": "code",
   "execution_count": 18,
   "metadata": {},
   "outputs": [],
   "source": [
    "def factorial_sum(n):\n",
    "    sum=0\n",
    "    while n:\n",
    "        sum+=fact[n%10]\n",
    "        # print(n%10,\"!=\",fact[n%10])\n",
    "        n//=10\n",
    "    return sum"
   ]
  },
  {
   "cell_type": "markdown",
   "metadata": {},
   "source": [
    "Now we have to find an upper limit. Unless we have to run code forever. This some what harder thing\n",
    "\n",
    "If we take a number nn, we can bound it's number of digits d to $10^{d-1}<n<10^d$.\n",
    "\n",
    "Let's say we form a $d$ digit long number of all 9 as the maximum, the sum of it's factorial digits would be $9!d$.\n",
    "\n",
    "Hence $10^{d-1}<n<10^d$\n",
    "$ \n",
    "\\Leftrightarrow 10^{d-1}<9!d<10^d \\\\\n",
    "\\Leftrightarrow {d-1}<Log_{10}(9!d)<d \\\\\n",
    "\\Leftrightarrow {d-1}<Log_{10}(9!)+Log_{10}(d)<d \\\\\n",
    "\\Leftrightarrow {d-1}<5.56+Log_{10}(d)<d \\\\\n",
    "\\Leftrightarrow {d-1}<5.56+Log_{10}(d)<d \\\\\n",
    "\\Leftrightarrow {d-1}-Log_{10}(d)<5.56<d-Log_{10}(d) \\\\\n",
    "\\Leftrightarrow {d}-Log_{10}(d)<6.56<d+1-Log_{10}(d)\\\\$\n",
    "\n",
    "therefore ...\n",
    "\n",
    "Upper Limit is get from https://www.xarg.org/puzzle/project-euler/problem-34/"
   ]
  },
  {
   "cell_type": "code",
   "execution_count": 20,
   "metadata": {},
   "outputs": [
    {
     "name": "stdout",
     "output_type": "stream",
     "text": [
      "145\n",
      "40585\n",
      "40730\n"
     ]
    }
   ],
   "source": [
    "upperlimit=1499999\n",
    "sum_=0\n",
    "for j in range(10,upperlimit):\n",
    "    if factorial_sum(j)==j:\n",
    "        sum_+=j\n",
    "        print(j)\n",
    "print(sum_)"
   ]
  }
 ],
 "metadata": {
  "kernelspec": {
   "display_name": "Python 3.10.4 64-bit",
   "language": "python",
   "name": "python3"
  },
  "language_info": {
   "name": "python",
   "version": "3.10.4"
  },
  "orig_nbformat": 4,
  "vscode": {
   "interpreter": {
    "hash": "e027e9b9823ce6a9e0c9c877d53cd04ce062ace5f211db67d7ec11968ca34bb0"
   }
  }
 },
 "nbformat": 4,
 "nbformat_minor": 2
}
